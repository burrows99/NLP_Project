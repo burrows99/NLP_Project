{
  "nbformat": 4,
  "nbformat_minor": 0,
  "metadata": {
    "colab": {
      "provenance": [],
      "authorship_tag": "ABX9TyPVa/YBo+wq+KlRmJXkhlRH",
      "include_colab_link": true
    },
    "kernelspec": {
      "name": "python3",
      "display_name": "Python 3"
    },
    "language_info": {
      "name": "python"
    }
  },
  "cells": [
    {
      "cell_type": "markdown",
      "metadata": {
        "id": "view-in-github",
        "colab_type": "text"
      },
      "source": [
        "<a href=\"https://colab.research.google.com/github/burrows99/NLP_Project/blob/main/NLP_Project.ipynb\" target=\"_parent\"><img src=\"https://colab.research.google.com/assets/colab-badge.svg\" alt=\"Open In Colab\"/></a>"
      ]
    },
    {
      "cell_type": "markdown",
      "source": [
        "# Setup & Data Loading"
      ],
      "metadata": {
        "id": "17dbr4qPAnzU"
      }
    },
    {
      "cell_type": "code",
      "execution_count": 48,
      "metadata": {
        "colab": {
          "base_uri": "https://localhost:8080/"
        },
        "id": "07ndaQj6Ajtp",
        "outputId": "72921536-d9c9-4fd3-a8cc-af04d288dad0"
      },
      "outputs": [
        {
          "output_type": "stream",
          "name": "stdout",
          "text": [
            "Requirement already satisfied: datasets in /usr/local/lib/python3.11/dist-packages (3.5.0)\n",
            "Requirement already satisfied: transformers in /usr/local/lib/python3.11/dist-packages (4.50.3)\n",
            "Requirement already satisfied: sklearn-crfsuite in /usr/local/lib/python3.11/dist-packages (0.5.0)\n",
            "Requirement already satisfied: seqeval in /usr/local/lib/python3.11/dist-packages (1.2.2)\n",
            "Requirement already satisfied: pandas in /usr/local/lib/python3.11/dist-packages (2.2.2)\n",
            "Requirement already satisfied: filelock in /usr/local/lib/python3.11/dist-packages (from datasets) (3.18.0)\n",
            "Requirement already satisfied: numpy>=1.17 in /usr/local/lib/python3.11/dist-packages (from datasets) (2.0.2)\n",
            "Requirement already satisfied: pyarrow>=15.0.0 in /usr/local/lib/python3.11/dist-packages (from datasets) (18.1.0)\n",
            "Requirement already satisfied: dill<0.3.9,>=0.3.0 in /usr/local/lib/python3.11/dist-packages (from datasets) (0.3.8)\n",
            "Requirement already satisfied: requests>=2.32.2 in /usr/local/lib/python3.11/dist-packages (from datasets) (2.32.3)\n",
            "Requirement already satisfied: tqdm>=4.66.3 in /usr/local/lib/python3.11/dist-packages (from datasets) (4.67.1)\n",
            "Requirement already satisfied: xxhash in /usr/local/lib/python3.11/dist-packages (from datasets) (3.5.0)\n",
            "Requirement already satisfied: multiprocess<0.70.17 in /usr/local/lib/python3.11/dist-packages (from datasets) (0.70.16)\n",
            "Requirement already satisfied: fsspec<=2024.12.0,>=2023.1.0 in /usr/local/lib/python3.11/dist-packages (from fsspec[http]<=2024.12.0,>=2023.1.0->datasets) (2024.12.0)\n",
            "Requirement already satisfied: aiohttp in /usr/local/lib/python3.11/dist-packages (from datasets) (3.11.15)\n",
            "Requirement already satisfied: huggingface-hub>=0.24.0 in /usr/local/lib/python3.11/dist-packages (from datasets) (0.30.1)\n",
            "Requirement already satisfied: packaging in /usr/local/lib/python3.11/dist-packages (from datasets) (24.2)\n",
            "Requirement already satisfied: pyyaml>=5.1 in /usr/local/lib/python3.11/dist-packages (from datasets) (6.0.2)\n",
            "Requirement already satisfied: regex!=2019.12.17 in /usr/local/lib/python3.11/dist-packages (from transformers) (2024.11.6)\n",
            "Requirement already satisfied: tokenizers<0.22,>=0.21 in /usr/local/lib/python3.11/dist-packages (from transformers) (0.21.1)\n",
            "Requirement already satisfied: safetensors>=0.4.3 in /usr/local/lib/python3.11/dist-packages (from transformers) (0.5.3)\n",
            "Requirement already satisfied: python-crfsuite>=0.9.7 in /usr/local/lib/python3.11/dist-packages (from sklearn-crfsuite) (0.9.11)\n",
            "Requirement already satisfied: scikit-learn>=0.24.0 in /usr/local/lib/python3.11/dist-packages (from sklearn-crfsuite) (1.6.1)\n",
            "Requirement already satisfied: tabulate>=0.4.2 in /usr/local/lib/python3.11/dist-packages (from sklearn-crfsuite) (0.9.0)\n",
            "Requirement already satisfied: python-dateutil>=2.8.2 in /usr/local/lib/python3.11/dist-packages (from pandas) (2.8.2)\n",
            "Requirement already satisfied: pytz>=2020.1 in /usr/local/lib/python3.11/dist-packages (from pandas) (2025.2)\n",
            "Requirement already satisfied: tzdata>=2022.7 in /usr/local/lib/python3.11/dist-packages (from pandas) (2025.2)\n",
            "Requirement already satisfied: aiohappyeyeballs>=2.3.0 in /usr/local/lib/python3.11/dist-packages (from aiohttp->datasets) (2.6.1)\n",
            "Requirement already satisfied: aiosignal>=1.1.2 in /usr/local/lib/python3.11/dist-packages (from aiohttp->datasets) (1.3.2)\n",
            "Requirement already satisfied: attrs>=17.3.0 in /usr/local/lib/python3.11/dist-packages (from aiohttp->datasets) (25.3.0)\n",
            "Requirement already satisfied: frozenlist>=1.1.1 in /usr/local/lib/python3.11/dist-packages (from aiohttp->datasets) (1.5.0)\n",
            "Requirement already satisfied: multidict<7.0,>=4.5 in /usr/local/lib/python3.11/dist-packages (from aiohttp->datasets) (6.3.1)\n",
            "Requirement already satisfied: propcache>=0.2.0 in /usr/local/lib/python3.11/dist-packages (from aiohttp->datasets) (0.3.1)\n",
            "Requirement already satisfied: yarl<2.0,>=1.17.0 in /usr/local/lib/python3.11/dist-packages (from aiohttp->datasets) (1.18.3)\n",
            "Requirement already satisfied: typing-extensions>=3.7.4.3 in /usr/local/lib/python3.11/dist-packages (from huggingface-hub>=0.24.0->datasets) (4.13.0)\n",
            "Requirement already satisfied: six>=1.5 in /usr/local/lib/python3.11/dist-packages (from python-dateutil>=2.8.2->pandas) (1.17.0)\n",
            "Requirement already satisfied: charset-normalizer<4,>=2 in /usr/local/lib/python3.11/dist-packages (from requests>=2.32.2->datasets) (3.4.1)\n",
            "Requirement already satisfied: idna<4,>=2.5 in /usr/local/lib/python3.11/dist-packages (from requests>=2.32.2->datasets) (3.10)\n",
            "Requirement already satisfied: urllib3<3,>=1.21.1 in /usr/local/lib/python3.11/dist-packages (from requests>=2.32.2->datasets) (2.3.0)\n",
            "Requirement already satisfied: certifi>=2017.4.17 in /usr/local/lib/python3.11/dist-packages (from requests>=2.32.2->datasets) (2025.1.31)\n",
            "Requirement already satisfied: scipy>=1.6.0 in /usr/local/lib/python3.11/dist-packages (from scikit-learn>=0.24.0->sklearn-crfsuite) (1.14.1)\n",
            "Requirement already satisfied: joblib>=1.2.0 in /usr/local/lib/python3.11/dist-packages (from scikit-learn>=0.24.0->sklearn-crfsuite) (1.4.2)\n",
            "Requirement already satisfied: threadpoolctl>=3.1.0 in /usr/local/lib/python3.11/dist-packages (from scikit-learn>=0.24.0->sklearn-crfsuite) (3.6.0)\n"
          ]
        }
      ],
      "source": [
        "%pip install datasets transformers sklearn-crfsuite seqeval pandas"
      ]
    },
    {
      "cell_type": "code",
      "source": [
        "import numpy as np\n",
        "import torch\n",
        "import time\n",
        "import pandas as pd\n",
        "import numpy as np\n",
        "import matplotlib.pyplot as plt\n",
        "import nltk\n",
        "from nltk import pos_tag\n",
        "from nltk.util import ngrams\n",
        "from collections import defaultdict\n",
        "from datasets import load_dataset\n",
        "from sklearn.feature_extraction import FeatureHasher\n",
        "from sklearn.model_selection import train_test_split\n",
        "from sklearn_crfsuite.metrics import flat_classification_report\n",
        "from sklearn_crfsuite.utils import flatten\n",
        "from sklearn_crfsuite import CRF, metrics\n",
        "from transformers import AutoTokenizer, AutoModelForTokenClassification, TrainingArguments, Trainer\n",
        "from torch import nn\n",
        "from seqeval.metrics import classification_report\n"
      ],
      "metadata": {
        "id": "xv_ceODaAwce"
      },
      "execution_count": 49,
      "outputs": []
    },
    {
      "cell_type": "markdown",
      "source": [
        "# Load dataset and describe it"
      ],
      "metadata": {
        "id": "nnnjD0RtAzqf"
      }
    },
    {
      "cell_type": "code",
      "source": [
        "dataset = load_dataset(\"surrey-nlp/PLOD-CW-25\")\n",
        "splits = list(dataset.keys())\n",
        "\n",
        "for split in splits:\n",
        "    print(f\"\\n{split.upper()} Split:\")\n",
        "    print(\"=\"*50)\n",
        "    df = dataset[split].to_pandas()\n",
        "    print(df.head())\n",
        "    print(\"=\"*50)"
      ],
      "metadata": {
        "colab": {
          "base_uri": "https://localhost:8080/"
        },
        "id": "r8paAzHEA2Fq",
        "outputId": "ca160279-e3fd-4053-b87c-1af383f747ca"
      },
      "execution_count": 50,
      "outputs": [
        {
          "output_type": "stream",
          "name": "stdout",
          "text": [
            "\n",
            "TRAIN Split:\n",
            "==================================================\n",
            "                                              tokens  \\\n",
            "0  [MRR, ,, mortality, rate, ratio, ;, TBI, ,, tr...   \n",
            "1  [HPC, ,, hippocampus, ;, mOFC, ,, medial, OFC,...   \n",
            "2  [In, addition, to, the, effects, on, cell, gro...   \n",
            "3  [Abbreviations, :, HC, ,, C, -, terminal, rece...   \n",
            "4   [LL, :, lower, limit, ,, UL, :, upper, limit, .]   \n",
            "\n",
            "                                            pos_tags  \\\n",
            "0  [NOUN, PUNCT, NOUN, NOUN, NOUN, PUNCT, PROPN, ...   \n",
            "1  [PROPN, PUNCT, NOUN, PUNCT, NOUN, PUNCT, ADJ, ...   \n",
            "2  [ADP, NOUN, ADP, DET, NOUN, ADP, NOUN, NOUN, C...   \n",
            "3  [NOUN, PUNCT, PROPN, PUNCT, NOUN, PUNCT, ADJ, ...   \n",
            "4  [PROPN, PUNCT, ADJ, NOUN, PUNCT, PROPN, PUNCT,...   \n",
            "\n",
            "                                            ner_tags  \n",
            "0  [B-AC, O, B-LF, I-LF, I-LF, O, B-AC, O, B-LF, ...  \n",
            "1  [B-AC, O, B-LF, O, O, O, O, B-AC, O, B-AC, O, ...  \n",
            "2  [O, O, O, O, O, O, O, O, O, O, O, O, B-AC, B-A...  \n",
            "3  [O, O, B-AC, O, B-LF, I-LF, I-LF, I-LF, I-LF, ...  \n",
            "4   [B-AC, O, B-LF, I-LF, O, B-AC, O, B-LF, I-LF, O]  \n",
            "==================================================\n",
            "\n",
            "TEST Split:\n",
            "==================================================\n",
            "                                              tokens  \\\n",
            "0  [Within, amoebae, and, macrophages, ,, L., pne...   \n",
            "1  [L, 16, :, Would, contraceptive, prevalence, r...   \n",
            "2  [Stable, metabolically, unhealthy, overweight,...   \n",
            "3  [At, present, ,, many, disease, -, surveillanc...   \n",
            "4  [Also, see, Fig, 4, ., dpIns1, ,, dorsal, post...   \n",
            "\n",
            "                                            pos_tags  \\\n",
            "0  [ADP, NOUN, CCONJ, NOUN, PUNCT, PROPN, PROPN, ...   \n",
            "1  [NOUN, NUM, PUNCT, AUX, ADJ, NOUN, NOUN, PUNCT...   \n",
            "2  [ADJ, ADV, ADJ, NOUN, CCONJ, NOUN, PUNCT, PROP...   \n",
            "3  [ADP, NOUN, PUNCT, ADJ, NOUN, PUNCT, NOUN, NOU...   \n",
            "4  [ADV, VERB, PROPN, NUM, PUNCT, NOUN, PUNCT, AD...   \n",
            "\n",
            "                                            ner_tags  \n",
            "0  [O, O, O, O, O, O, O, O, O, O, O, O, O, O, O, ...  \n",
            "1  [O, O, O, O, B-LF, I-LF, I-LF, O, B-AC, O, O, ...  \n",
            "2  [O, B-LF, I-LF, I-LF, I-LF, I-LF, O, B-AC, O, ...  \n",
            "3  [O, O, O, O, O, O, O, O, O, O, O, O, O, O, O, ...  \n",
            "4  [O, O, O, O, O, O, O, O, O, O, O, O, O, B-AC, ...  \n",
            "==================================================\n",
            "\n",
            "VALIDATION Split:\n",
            "==================================================\n",
            "                                              tokens  \\\n",
            "0  [Multi, -, locus, sequence, typing, (, MLST, )...   \n",
            "1  [The, investigated, traits, were, heading, dat...   \n",
            "2  [AVR, -, Aortic, valve, replacement, ,, TAVI, ...   \n",
            "3  [After, amelogenin, ,, ameloblastin, (, AMBN, ...   \n",
            "4  [To, address, the, association, between, a, hi...   \n",
            "\n",
            "                                            pos_tags  \\\n",
            "0  [ADJ, PUNCT, ADJ, NOUN, NOUN, PUNCT, NOUN, PUN...   \n",
            "1  [DET, VERB, NOUN, AUX, NOUN, NOUN, PUNCT, PROP...   \n",
            "2  [PROPN, PUNCT, ADJ, NOUN, NOUN, PUNCT, PROPN, ...   \n",
            "3  [ADP, NOUN, PUNCT, NOUN, PUNCT, PROPN, PUNCT, ...   \n",
            "4  [PART, VERB, DET, NOUN, ADP, DET, NOUN, ADP, N...   \n",
            "\n",
            "                                            ner_tags  \n",
            "0  [B-LF, I-LF, I-LF, I-LF, I-LF, O, B-AC, O, O, ...  \n",
            "1  [O, O, O, O, B-LF, I-LF, O, B-AC, O, O, B-LF, ...  \n",
            "2  [B-AC, O, B-LF, I-LF, I-LF, O, B-AC, O, O, O, ...  \n",
            "3  [O, O, O, B-LF, O, B-AC, O, O, O, O, O, O, O, ...  \n",
            "4  [O, O, O, O, O, O, O, O, B-LF, O, B-AC, O, O, ...  \n",
            "==================================================\n"
          ]
        }
      ]
    },
    {
      "cell_type": "markdown",
      "source": [
        "# Split dataset"
      ],
      "metadata": {
        "id": "eTppKW7WA5FF"
      }
    },
    {
      "cell_type": "code",
      "source": [
        "train_tokens = dataset['train']['tokens']\n",
        "train_tags = dataset['train']['ner_tags']\n",
        "train_pos = dataset['train']['pos_tags']\n",
        "\n",
        "val_tokens = dataset['validation']['tokens']\n",
        "val_tags = dataset['validation']['ner_tags']\n",
        "val_pos = dataset['validation']['pos_tags']\n",
        "\n",
        "test_tokens = dataset['test']['tokens']\n",
        "test_tags = dataset['test']['ner_tags']\n",
        "test_pos = dataset['test']['pos_tags']\n",
        "\n",
        "# Print sample sizes\n",
        "print(f\"Training samples: {len(train_tokens)}\")\n",
        "print(f\"Validation samples: {len(val_tokens)}\")\n",
        "print(f\"Test samples: {len(test_tokens)}\")\n",
        "\n",
        "# Print first example from each split\n",
        "print(\"\\nFirst training example:\")\n",
        "print(\"Tokens:\", train_tokens[0])\n",
        "print(\"Tags:\", train_tags[0])\n",
        "print(\"POS:\", train_pos[0])\n",
        "\n",
        "print(\"\\nFirst validation example:\")\n",
        "print(\"Tokens:\", val_tokens[0])\n",
        "print(\"Tags:\", val_tags[0])\n",
        "print(\"POS:\", val_pos[0])\n",
        "\n",
        "print(\"\\nFirst test example:\")\n",
        "print(\"Tokens:\", test_tokens[0])\n",
        "print(\"Tags:\", test_tags[0])\n",
        "print(\"POS:\", test_pos[0])"
      ],
      "metadata": {
        "colab": {
          "base_uri": "https://localhost:8080/"
        },
        "id": "y8g55EqhA64r",
        "outputId": "5e9aa243-8a54-4c2a-fe8d-529158f77cda"
      },
      "execution_count": 51,
      "outputs": [
        {
          "output_type": "stream",
          "name": "stdout",
          "text": [
            "Training samples: 2000\n",
            "Validation samples: 150\n",
            "Test samples: 250\n",
            "\n",
            "First training example:\n",
            "Tokens: ['MRR', ',', 'mortality', 'rate', 'ratio', ';', 'TBI', ',', 'traumatic', 'brain', 'injury', '.']\n",
            "Tags: ['B-AC', 'O', 'B-LF', 'I-LF', 'I-LF', 'O', 'B-AC', 'O', 'B-LF', 'I-LF', 'I-LF', 'O']\n",
            "POS: ['NOUN', 'PUNCT', 'NOUN', 'NOUN', 'NOUN', 'PUNCT', 'PROPN', 'PUNCT', 'ADJ', 'NOUN', 'NOUN', 'PUNCT']\n",
            "\n",
            "First validation example:\n",
            "Tokens: ['Multi', '-', 'locus', 'sequence', 'typing', '(', 'MLST', ')', 'was', 'performed', 'by', 'PCR', '-', 'sequencing', 'of', 'a', 'set', 'of', 'pneumococcal', 'housekeeping', 'genes', ',', 'including', 'ardE', ',', 'gdh', ',', 'gki', ',', 'recP', ',', 'spi', ',', 'xpt', ',', 'and', 'ddl', '[', '17', ']', '.']\n",
            "Tags: ['B-LF', 'I-LF', 'I-LF', 'I-LF', 'I-LF', 'O', 'B-AC', 'O', 'O', 'O', 'O', 'B-AC', 'O', 'O', 'O', 'O', 'O', 'O', 'O', 'O', 'O', 'O', 'O', 'O', 'O', 'O', 'O', 'O', 'O', 'O', 'O', 'O', 'O', 'O', 'O', 'O', 'O', 'O', 'O', 'O', 'O']\n",
            "POS: ['ADJ', 'PUNCT', 'ADJ', 'NOUN', 'NOUN', 'PUNCT', 'NOUN', 'PUNCT', 'AUX', 'VERB', 'ADP', 'NOUN', 'PUNCT', 'NOUN', 'ADP', 'DET', 'NOUN', 'ADP', 'ADJ', 'NOUN', 'NOUN', 'PUNCT', 'VERB', 'NOUN', 'PUNCT', 'NOUN', 'PUNCT', 'NOUN', 'PUNCT', 'NOUN', 'PUNCT', 'NOUN', 'PUNCT', 'NOUN', 'PUNCT', 'CCONJ', 'NOUN', 'PUNCT', 'NUM', 'PUNCT', 'PUNCT']\n",
            "\n",
            "First test example:\n",
            "Tokens: ['Within', 'amoebae', 'and', 'macrophages', ',', 'L.', 'pneumophila', 'replicates', 'with', 'a', 'similar', 'mechanism', 'by', 'forming', 'a', 'membrane', '-', 'bound', 'compartment', ',', 'the', 'Legionella', '-', 'containing', 'vacuole', '(', 'LCV', ')', '.', 'Formation', 'of', 'the', 'LCV', 'is', 'not', 'well', 'defined', ',', 'but', 'requires', 'that', 'L.', 'pneumophila', 'injects', 'proteins', 'into', 'the', 'host', 'cell', 'via', 'the', 'intracellular', 'multiplication', '(', 'Icm)/defective', 'organelle', 'trafficking', '(', 'Dot', ')', 'secretion', 'system', '.']\n",
            "Tags: ['O', 'O', 'O', 'O', 'O', 'O', 'O', 'O', 'O', 'O', 'O', 'O', 'O', 'O', 'O', 'O', 'O', 'O', 'O', 'O', 'O', 'O', 'O', 'O', 'O', 'O', 'B-AC', 'O', 'O', 'O', 'O', 'O', 'B-AC', 'O', 'O', 'O', 'O', 'O', 'O', 'O', 'O', 'O', 'O', 'O', 'O', 'O', 'O', 'O', 'O', 'O', 'O', 'B-LF', 'I-LF', 'O', 'B-LF', 'I-LF', 'I-LF', 'O', 'B-AC', 'O', 'O', 'O', 'O']\n",
            "POS: ['ADP', 'NOUN', 'CCONJ', 'NOUN', 'PUNCT', 'PROPN', 'PROPN', 'VERB', 'ADP', 'DET', 'ADJ', 'NOUN', 'ADP', 'VERB', 'DET', 'NOUN', 'PUNCT', 'VERB', 'NOUN', 'PUNCT', 'DET', 'PROPN', 'PUNCT', 'VERB', 'NOUN', 'PUNCT', 'PROPN', 'PUNCT', 'PUNCT', 'NOUN', 'ADP', 'DET', 'PROPN', 'AUX', 'PART', 'ADV', 'VERB', 'PUNCT', 'CCONJ', 'VERB', 'SCONJ', 'PROPN', 'PROPN', 'VERB', 'NOUN', 'ADP', 'DET', 'NOUN', 'NOUN', 'ADP', 'DET', 'ADJ', 'NOUN', 'PUNCT', 'ADJ', 'NOUN', 'NOUN', 'PUNCT', 'NOUN', 'PUNCT', 'NOUN', 'NOUN', 'PUNCT']\n"
          ]
        }
      ]
    },
    {
      "cell_type": "markdown",
      "source": [
        "# Prepare common functions"
      ],
      "metadata": {
        "id": "Vf6E08TPwu8Y"
      }
    },
    {
      "cell_type": "code",
      "source": [
        "def run_crf_pipeline(featurizer_func, dataset, crf_model, variation_name=\"Unnamed Variation\"):\n",
        "    print(f\"\\n=== Running CRF Pipeline: {variation_name} ===\\n\")\n",
        "\n",
        "    # Prepare features\n",
        "    X_train = [featurizer_func(s) for s in dataset['train']['tokens']]\n",
        "    X_val = [featurizer_func(s) for s in dataset['validation']['tokens']]\n",
        "    X_test = [featurizer_func(s) for s in dataset['test']['tokens']]\n",
        "\n",
        "    # Prepare labels\n",
        "    y_train = dataset['train']['ner_tags']\n",
        "    y_val = dataset['validation']['ner_tags']\n",
        "    y_test = dataset['test']['ner_tags']\n",
        "\n",
        "    # Verify dataset sizes\n",
        "    assert len(X_train) == len(y_train), \"Train feature/label mismatch\"\n",
        "    assert len(X_val) == len(y_val), \"Validation feature/label mismatch\"\n",
        "    assert len(X_test) == len(y_test), \"Test feature/label mismatch\"\n",
        "\n",
        "    # Train model\n",
        "    crf_model.fit(X_train, y_train)\n",
        "\n",
        "    # Validate on validation set\n",
        "    y_val_pred = crf_model.predict(X_val)\n",
        "    print(\"=== Validation Set Report ===\")\n",
        "    print(classification_report(y_val, y_val_pred))\n",
        "\n",
        "    # Final test on test set\n",
        "    y_test_pred = crf_model.predict(X_test)\n",
        "    print(\"\\n=== Test Set Report ===\")\n",
        "    report_test = classification_report(y_test, y_test_pred, output_dict=True)\n",
        "    print(report_test)\n",
        "    # Plot F1-scores for each label\n",
        "    plot_f1_scores(report_test, variation_name)\n",
        "\n",
        "def plot_f1_scores(report_dict, variation_name):\n",
        "    labels = []\n",
        "    f1_scores = []\n",
        "\n",
        "    for label, metrics in report_dict.items():\n",
        "        labels.append(label)\n",
        "        f1_scores.append(metrics[\"f1-score\"])\n",
        "\n",
        "    x = np.arange(len(labels))\n",
        "    plt.figure(figsize=(10, 5))\n",
        "    plt.bar(x, f1_scores, color='skyblue')\n",
        "    plt.xticks(x, labels, rotation=45, ha='right')\n",
        "    plt.ylim(0, 1)\n",
        "    plt.title(f'F1 Scores per Label - {variation_name}')\n",
        "    plt.ylabel('F1 Score')\n",
        "    plt.tight_layout()\n",
        "    plt.show()"
      ],
      "metadata": {
        "id": "eNKP0y4YwyRI"
      },
      "execution_count": 52,
      "outputs": []
    },
    {
      "cell_type": "markdown",
      "source": [
        "# Experiment 1: Varying Vectorization Methods (3 Systems)\n",
        "**Systems:**\n",
        "1. **System 1**: CRF with Basic Features (word, prefix, suffix)\n",
        "2. **System 2**: CRF with Advanced Features (POS tags, n-grams)\n",
        "3. **System 3**: BERT Embeddings + FFNN"
      ],
      "metadata": {
        "id": "inlsTyUCA-hx"
      }
    },
    {
      "cell_type": "markdown",
      "source": [
        "# System 1 : CRF with Basic Features (word, prefix, suffix)"
      ],
      "metadata": {
        "id": "mePeLaCyBFzs"
      }
    },
    {
      "cell_type": "code",
      "source": [
        "# Variation 1: Basic Features\n",
        "def basic_featurizer_v1(sent):\n",
        "    return [{'word': word.lower(), 'suffix3': word[-3:].lower()} for word in sent]\n",
        "\n",
        "# Variation 2: Extended Features\n",
        "def basic_featurizer_v2(sent):\n",
        "    return [{\n",
        "        'word': word.lower(),\n",
        "        'prefix3': word[:3].lower(),\n",
        "        'suffix3': word[-3:].lower(),\n",
        "        'is_cap': word[0].isupper(),\n",
        "        'is_no_cap': word[0].islower()\n",
        "    } for word in sent]\n",
        "\n",
        "# Initialize model\n",
        "sys1_crf = CRF(\n",
        "    algorithm='lbfgs',\n",
        "    c1=0.5,\n",
        "    c2=0.01,\n",
        "    max_iterations=200,\n",
        "    linesearch='StrongBacktracking',\n",
        "    all_possible_transitions=True\n",
        ")\n",
        "\n",
        "# Run for both feature variations\n",
        "run_crf_pipeline(basic_featurizer_v1, dataset, sys1_crf, variation_name=\"System 1: Basic Featurizer v1\")\n",
        "run_crf_pipeline(basic_featurizer_v2, dataset, sys1_crf, variation_name=\"System 1: Extended Featurizer v2\")"
      ],
      "metadata": {
        "colab": {
          "base_uri": "https://localhost:8080/",
          "height": 1000
        },
        "id": "JOWVjalABDMs",
        "outputId": "35825c29-9e6d-4253-c969-f025a296ebdd"
      },
      "execution_count": 47,
      "outputs": [
        {
          "output_type": "stream",
          "name": "stdout",
          "text": [
            "\n",
            "=== Running CRF Pipeline: System 1: Basic Featurizer v1 ===\n",
            "\n",
            "=== Validation Set Report ===\n",
            "              precision    recall  f1-score   support\n",
            "\n",
            "          AC       0.81      0.47      0.60       508\n",
            "          LF       0.50      0.38      0.43       306\n",
            "\n",
            "   micro avg       0.67      0.44      0.53       814\n",
            "   macro avg       0.66      0.43      0.52       814\n",
            "weighted avg       0.69      0.44      0.54       814\n",
            "\n",
            "\n",
            "=== Test Set Report ===\n",
            "{'AC': {'precision': np.float64(0.8013698630136986), 'recall': np.float64(0.44040150564617314), 'f1-score': np.float64(0.5684210526315789), 'support': np.int64(797)}, 'LF': {'precision': np.float64(0.5508021390374331), 'recall': np.float64(0.42738589211618255), 'f1-score': np.float64(0.4813084112149532), 'support': np.int64(482)}, 'micro avg': {'precision': np.float64(0.6859605911330049), 'recall': np.float64(0.4354964816262705), 'f1-score': np.float64(0.5327594452415112), 'support': np.int64(1279)}, 'macro avg': {'precision': np.float64(0.6760860010255658), 'recall': np.float64(0.43389369888117785), 'f1-score': np.float64(0.5248647319232661), 'support': np.int64(1279)}, 'weighted avg': {'precision': np.float64(0.7069416824378112), 'recall': np.float64(0.4354964816262705), 'f1-score': np.float64(0.5355920509405597), 'support': np.int64(1279)}}\n"
          ]
        },
        {
          "output_type": "display_data",
          "data": {
            "text/plain": [
              "<Figure size 1000x500 with 1 Axes>"
            ],
            "image/png": "[encoded data removed]"
          },
          "metadata": {}
        },
        {
          "output_type": "stream",
          "name": "stdout",
          "text": [
            "\n",
            "=== Running CRF Pipeline: System 1: Extended Featurizer v2 ===\n",
            "\n",
            "=== Validation Set Report ===\n",
            "              precision    recall  f1-score   support\n",
            "\n",
            "          AC       0.76      0.78      0.77       508\n",
            "          LF       0.51      0.41      0.45       306\n",
            "\n",
            "   micro avg       0.68      0.64      0.66       814\n",
            "   macro avg       0.64      0.59      0.61       814\n",
            "weighted avg       0.67      0.64      0.65       814\n",
            "\n",
            "\n",
            "=== Test Set Report ===\n",
            "{'AC': {'precision': np.float64(0.7370283018867925), 'recall': np.float64(0.7841907151819323), 'f1-score': np.float64(0.7598784194528876), 'support': np.int64(797)}, 'LF': {'precision': np.float64(0.5602094240837696), 'recall': np.float64(0.44398340248962653), 'f1-score': np.float64(0.49537037037037035), 'support': np.int64(482)}, 'micro avg': {'precision': np.float64(0.6821138211382114), 'recall': np.float64(0.6559812353401094), 'f1-score': np.float64(0.6687923475488243), 'support': np.int64(1279)}, 'macro avg': {'precision': np.float64(0.648618862985281), 'recall': np.float64(0.6140870588357794), 'f1-score': np.float64(0.6276243949116289), 'support': np.int64(1279)}, 'weighted avg': {'precision': np.float64(0.6703928842940975), 'recall': np.float64(0.6559812353401094), 'f1-score': np.float64(0.6601967309010711), 'support': np.int64(1279)}}\n"
          ]
        },
        {
          "output_type": "display_data",
          "data": {
            "text/plain": [
              "<Figure size 1000x500 with 1 Axes>"
            ],
            "image/png": "[encoded data removed]"
          },
          "metadata": {}
        }
      ]
    },
    {
      "cell_type": "markdown",
      "source": [
        "# System 2 : CRF with Advanced Features (POS tags, n-grams)"
      ],
      "metadata": {
        "id": "jIurteapBOI_"
      }
    },
    {
      "cell_type": "code",
      "source": [
        "import nltk\n",
        "from nltk.util import ngrams\n",
        "from nltk.stem import PorterStemmer\n",
        "from nltk import pos_tag\n",
        "\n",
        "# Download required NLTK resources\n",
        "nltk.download('averaged_perceptron_tagger')\n",
        "nltk.download('punkt')\n",
        "\n",
        "print(nltk.data.find('taggers/averaged_perceptron_tagger'))\n",
        "\n",
        "# Initialize stemmer\n",
        "stemmer = PorterStemmer()\n",
        "\n",
        "def extract_common_features(sent, i, bigrams, trigrams):\n",
        "    \"\"\"\n",
        "    Extract common features for a given word in a sentence.\n",
        "\n",
        "    :param sent: List of words in the sentence.\n",
        "    :param i: Index of the current word.\n",
        "    :param bigrams: List of bigrams for the sentence.\n",
        "    :param trigrams: List of trigrams for the sentence.\n",
        "    :return: Dictionary of common features.\n",
        "    \"\"\"\n",
        "    word = sent[i]\n",
        "\n",
        "    # Get surrounding words\n",
        "    prev_word = sent[i-1].lower() if i > 0 else '<START>'\n",
        "    next_word = sent[i+1].lower() if i < len(sent)-1 else '<END>'\n",
        "\n",
        "    # Get n-grams\n",
        "    curr_bigram = bigrams[i] if i < len(bigrams) else ('<END>', '<END>')\n",
        "    curr_trigram = trigrams[i] if i < len(trigrams) else ('<END>', '<END>', '<END>')\n",
        "\n",
        "    features = {\n",
        "        # Word features\n",
        "        'word': word.lower(),\n",
        "        'stem': stemmer.stem(word),\n",
        "        'length': len(word),\n",
        "\n",
        "        # N-gram features\n",
        "        'bigram': f\"{curr_bigram[0].lower()}_{curr_bigram[1].lower()}\",\n",
        "        'trigram': f\"{curr_trigram[0].lower()}_{curr_trigram[1].lower()}_{curr_trigram[2].lower()}\",\n",
        "\n",
        "        # Context features\n",
        "        'prev_word': prev_word,\n",
        "        'next_word': next_word,\n",
        "        'prev_next': f\"{prev_word}_{next_word}\",\n",
        "\n",
        "        # Orthographic features\n",
        "        'is_cap': word[0].isupper(),\n",
        "        'is_num': word.isdigit(),\n",
        "        'has_hyphen': '-' in word,\n",
        "        'prefix3': word[:3].lower(),\n",
        "        'suffix3': word[-3:].lower()\n",
        "    }\n",
        "    return features\n",
        "\n",
        "def advanced_featurizer_v1(sent):\n",
        "    \"\"\"\n",
        "    Feature extractor without POS tagging.\n",
        "\n",
        "    :param sent: List of words in the sentence.\n",
        "    :return: List of feature dictionaries for each word.\n",
        "    \"\"\"\n",
        "    bigrams = list(ngrams(sent, 2))\n",
        "    trigrams = list(ngrams(sent, 3))\n",
        "    features = [extract_common_features(sent, i, bigrams, trigrams) for i in range(len(sent))]\n",
        "    return features\n",
        "\n",
        "def advanced_featurizer_v2(sent):\n",
        "    \"\"\"\n",
        "    Feature extractor with POS tagging.\n",
        "\n",
        "    :param sent: List of words in the sentence.\n",
        "    :return: List of feature dictionaries for each word.\n",
        "    \"\"\"\n",
        "    pos_tags = pos_tag(sent)\n",
        "    bigrams = list(ngrams(sent, 2))\n",
        "    trigrams = list(ngrams(sent, 3))\n",
        "    features = []\n",
        "    for i in range(len(sent)):\n",
        "        feature = extract_common_features(sent, i, bigrams, trigrams)\n",
        "        # Add POS features\n",
        "        current_pos = pos_tags[i][1]\n",
        "        prev_pos = pos_tags[i-1][1] if i > 0 else '<START_POS>'\n",
        "        next_pos = pos_tags[i+1][1] if i < len(sent)-1 else '<END_POS>'\n",
        "        feature.update({\n",
        "            'pos': current_pos,\n",
        "            'prev_pos': prev_pos,\n",
        "            'next_pos': next_pos,\n",
        "            'pos_trigram': f\"{prev_pos}_{current_pos}_{next_pos}\",\n",
        "        })\n",
        "        features.append(feature)\n",
        "    return features\n",
        "\n",
        "# Initialize model\n",
        "sys2_crf = CRF(\n",
        "    algorithm='lbfgs',\n",
        "    c1=0.5,\n",
        "    c2=0.01,\n",
        "    max_iterations=200,\n",
        "    linesearch='StrongBacktracking',\n",
        "    all_possible_transitions=True\n",
        ")\n",
        "\n",
        "# Run for both feature variations\n",
        "run_crf_pipeline(advanced_featurizer_v1, dataset, sys1_crf, variation_name=\"System 2: Advanced Featurizer v1\")\n",
        "# run_crf_pipeline(advanced_featurizer_v2, dataset, sys1_crf, variation_name=\"System 2: Advanced Featurizer v1\")"
      ],
      "metadata": {
        "colab": {
          "base_uri": "https://localhost:8080/",
          "height": 937
        },
        "id": "GsRfkP4vBO8C",
        "outputId": "71271c4c-4224-488d-bbe0-642aaf42efc1"
      },
      "execution_count": 53,
      "outputs": [
        {
          "output_type": "stream",
          "name": "stdout",
          "text": [
            "/root/nltk_data/taggers/averaged_perceptron_tagger\n",
            "\n",
            "=== Running CRF Pipeline: System 2: Advanced Featurizer v1 ===\n",
            "\n"
          ]
        },
        {
          "output_type": "stream",
          "name": "stderr",
          "text": [
            "[nltk_data] Downloading package averaged_perceptron_tagger to\n",
            "[nltk_data]     /root/nltk_data...\n",
            "[nltk_data]   Package averaged_perceptron_tagger is already up-to-\n",
            "[nltk_data]       date!\n",
            "[nltk_data] Downloading package punkt to /root/nltk_data...\n",
            "[nltk_data]   Package punkt is already up-to-date!\n"
          ]
        },
        {
          "output_type": "stream",
          "name": "stdout",
          "text": [
            "=== Validation Set Report ===\n",
            "              precision    recall  f1-score   support\n",
            "\n",
            "          AC       0.83      0.76      0.79       508\n",
            "          LF       0.67      0.64      0.65       306\n",
            "\n",
            "   micro avg       0.77      0.72      0.74       814\n",
            "   macro avg       0.75      0.70      0.72       814\n",
            "weighted avg       0.77      0.72      0.74       814\n",
            "\n",
            "\n",
            "=== Test Set Report ===\n",
            "{'AC': {'precision': np.float64(0.8464619492656876), 'recall': np.float64(0.795483061480552), 'f1-score': np.float64(0.8201811125485122), 'support': np.int64(797)}, 'LF': {'precision': np.float64(0.7096069868995634), 'recall': np.float64(0.6742738589211619), 'f1-score': np.float64(0.6914893617021277), 'support': np.int64(482)}, 'micro avg': {'precision': np.float64(0.7945318972659486), 'recall': np.float64(0.7498045347928068), 'f1-score': np.float64(0.7715205148833468), 'support': np.int64(1279)}, 'macro avg': {'precision': np.float64(0.7780344680826254), 'recall': np.float64(0.7348784602008569), 'f1-score': np.float64(0.75583523712532), 'support': np.int64(1279)}, 'weighted avg': {'precision': np.float64(0.7948872097344352), 'recall': np.float64(0.7498045347928068), 'f1-score': np.float64(0.7716827357635573), 'support': np.int64(1279)}}\n"
          ]
        },
        {
          "output_type": "display_data",
          "data": {
            "text/plain": [
              "<Figure size 1000x500 with 1 Axes>"
            ],
            "image/png": "[encoded data removed]"
          },
          "metadata": {}
        }
      ]
    },
    {
      "cell_type": "markdown",
      "source": [
        "# System 3: BERT + FFNN"
      ],
      "metadata": {
        "id": "DycWv_eJBUxe"
      }
    }
  ]
}